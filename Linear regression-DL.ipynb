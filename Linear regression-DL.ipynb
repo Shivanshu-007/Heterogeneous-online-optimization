{
 "cells": [
  {
   "cell_type": "raw",
   "id": "bc877009",
   "metadata": {},
   "source": [
    "# @Time     : 11/20/23\n",
    "# @Author   : Shivanshu Tripathi, Darshan Gadginmath, Fabio Pasqualetti\n",
    "# @FileName : Linear regression-DL.py"
   ]
  },
  {
   "cell_type": "raw",
   "id": "5449e039",
   "metadata": {},
   "source": [
    "# Simulation  setting: Linear regression with only distributed learning."
   ]
  },
  {
   "cell_type": "code",
   "execution_count": 1,
   "id": "4f57e4ce",
   "metadata": {},
   "outputs": [],
   "source": [
    "import numpy as np\n",
    "import random\n",
    "import matplotlib.pyplot as plt\n",
    "import numpy as np\n",
    "from numpy.random import randn\n",
    "from numpy.random import choice\n",
    "\n",
    "\n",
    "n = 3\n",
    "p = 1\n",
    "D = 50000\n",
    "\n",
    "true_beta = np.array([1, 3, 5])\n",
    "\n",
    "eta = 0.01\n",
    "datanoise_cov = 30\n",
    "\n",
    "xdata = np.random.randn(n, D) * 5\n",
    "\n",
    "ydata = np.dot(true_beta, xdata) + np.random.randn(p, D) * datanoise_cov\n",
    "\n",
    "# Central data\n",
    "CentD = D\n",
    "xcovcent = 2\n",
    "centnoise = 3\n",
    "\n",
    "CentAgentX = np.random.randn(n, CentD) * xcovcent\n",
    "CentAgentY = np.dot(true_beta, CentAgentX) + np.random.randn(p, CentD) * centnoise"
   ]
  },
  {
   "cell_type": "code",
   "execution_count": 2,
   "id": "e6ce9c89",
   "metadata": {},
   "outputs": [],
   "source": [
    "def generate_stochastic_matrix(n):\n",
    "    c = np.abs(np.random.randn(n))\n",
    "    csum = np.sum(c)\n",
    "    c = c / csum\n",
    "\n",
    "    M2 = np.eye(n)\n",
    "\n",
    "    for k in range(n):\n",
    "        idx = np.random.permutation(n)\n",
    "        idx = idx + np.arange(n) * n\n",
    "        M2.flat[idx] = M2.flat[idx] + c[k]\n",
    "\n",
    "    return M2\n",
    "\n",
    "def gradient_linear(ydata, xdata, beta0, n, p, D):\n",
    "    dbeta = np.zeros((p, n))\n",
    "\n",
    "    for j in range(D):\n",
    "        dbeta += np.outer(ydata[:, j] - np.dot(beta0, xdata[:, j]), xdata[:, j])\n",
    "\n",
    "    dbeta = -dbeta / D\n",
    "    return dbeta\n",
    "\n"
   ]
  },
  {
   "cell_type": "code",
   "execution_count": 3,
   "id": "d22f3114",
   "metadata": {
    "scrolled": true
   },
   "outputs": [],
   "source": [
    "# Parameters\n",
    "T = 3000\n",
    "N = 5  \n",
    "eta = 0.01  \n",
    "\n",
    "datadist = T\n",
    "DataAgentsX = np.zeros((n, datadist, N))\n",
    "DataAgentsY = np.zeros((p, datadist, N))\n",
    "\n",
    "dataser = np.arange(1, T + 1)\n",
    "for i in range(N):\n",
    "    samples = np.random.choice(dataser, datadist)\n",
    "    DataAgentsX[:, :, i] = xdata[:, samples - 1] \n",
    "    DataAgentsY[:, :, i] = ydata[:, samples - 1] \n",
    "\n",
    "W = generate_stochastic_matrix(N)-np.eye(N)\n",
    "\n",
    "# Initialize variables\n",
    "beta = randn(p, n)\n",
    "beta_naive = beta.copy()\n",
    "\n",
    "switchS1 = 10\n",
    "switchS2 = 10\n",
    "count = 0\n",
    "state = 1\n",
    "\n",
    "# S1 initializations\n",
    "Ws1 = np.eye(p)\n",
    "ts1 = np.trace(Ws1)\n",
    "betaS1 = beta.copy()\n",
    "betaS1_n = beta.copy()\n",
    "s1count = 0\n",
    "\n",
    "# S2 initializations\n",
    "Ws2 = np.eye(p)\n",
    "ts2 = np.trace(Ws2)\n",
    "betaS2 = beta.copy()\n",
    "betaS2_n = beta.copy()\n",
    "betaS2_dist = np.tile(beta, (N, 1, 1))\n",
    "betaS2_dist_n = np.tile(beta, (N, 1, 1))\n",
    "s2count = 1\n",
    "\n",
    "# Keep track of betas for plots\n",
    "beta_traj = np.zeros((p, n, T))\n",
    "beta_traj[:, :, 0] = beta.copy()\n",
    "\n",
    "beta_n_traj = np.zeros((p, n, T))\n",
    "beta_n_traj[:, :, 0] = beta_naive.copy()\n",
    "\n",
    "betaNorm = np.zeros(T)\n",
    "betaNorm_naive = np.zeros(T)\n",
    "\n"
   ]
  },
  {
   "cell_type": "code",
   "execution_count": 4,
   "id": "a12ff4c9",
   "metadata": {},
   "outputs": [],
   "source": [
    "for i in range(T):\n",
    "    count += 1\n",
    "    if count == switchS1:\n",
    "        state = 2\n",
    "        count = 0\n",
    "    elif count == switchS2:\n",
    "        state = 1\n",
    "        count = 0\n",
    "\n",
    "    if state == 2:\n",
    "        s2count += 1\n",
    "\n",
    "    # Decentralized learning\n",
    "    DataS2X = DataAgentsX[:, :s2count, :]\n",
    "    DataS2Y = DataAgentsY[:, :s2count, :]\n",
    "\n",
    "    betaS2_temp = betaS2_dist.copy()\n",
    "    for j in range(N):\n",
    "        gradN = gradient_linear(DataS2Y[:, :, j], DataS2X[:, :, j], beta, n, p, s2count)\n",
    "        betaS2_temp[j] = betaS2 - eta * gradN\n",
    "\n",
    "    betaS2_dist = np.zeros((N, p, n))\n",
    "    for j in range(N):\n",
    "        for k in range(N):\n",
    "            betaS2_dist[j] += W[j, k] * betaS2_temp[k]\n",
    "\n",
    "    betaS2 = np.mean(betaS2_dist, axis=0)\n",
    "\n",
    "    errS2 = np.zeros(DataS2Y[:, :, 0].shape)\n",
    "    for j in range(N):\n",
    "        errS2 += DataS2Y[:, :, j] - np.dot(betaS2, DataS2X[:, :, j])\n",
    "\n",
    "    beta = betaS2\n",
    "\n",
    "    betaNorm[i] = np.linalg.norm(beta - true_beta)"
   ]
  },
  {
   "cell_type": "code",
   "execution_count": 5,
   "id": "eeca0dd7",
   "metadata": {},
   "outputs": [
    {
     "data": {
      "image/png": "[encoded data removed]",
      "text/plain": [
       "<Figure size 800x600 with 1 Axes>"
      ]
     },
     "metadata": {},
     "output_type": "display_data"
    }
   ],
   "source": [
    "betaNorm.shape\n",
    "import matplotlib.pyplot as plt\n",
    "\n",
    "# Assuming betaNorm is already computed and available\n",
    "# Plotting code\n",
    "plt.figure(figsize=(8, 6))\n",
    "plt.plot(range(len(betaNorm)), betaNorm, 'r-', linewidth=1.6)\n",
    "plt.xlabel('Iterations')\n",
    "plt.ylabel('|| θ* - θ̂ ||')\n",
    "plt.title('Distance to Optimal Parameters')\n",
    "plt.grid(True)\n",
    "plt.show()"
   ]
  },
  {
   "cell_type": "code",
   "execution_count": null,
   "id": "2bd53129",
   "metadata": {},
   "outputs": [],
   "source": []
  }
 ],
 "metadata": {
  "kernelspec": {
   "display_name": "Python 3 (ipykernel)",
   "language": "python",
   "name": "python3"
  },
  "language_info": {
   "codemirror_mode": {
    "name": "ipython",
    "version": 3
   },
   "file_extension": ".py",
   "mimetype": "text/x-python",
   "name": "python",
   "nbconvert_exporter": "python",
   "pygments_lexer": "ipython3",
   "version": "3.9.13"
  }
 },
 "nbformat": 4,
 "nbformat_minor": 5
}
